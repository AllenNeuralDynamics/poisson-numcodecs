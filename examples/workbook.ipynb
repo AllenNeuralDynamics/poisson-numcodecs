{
 "cells": [
  {
   "cell_type": "code",
   "execution_count": null,
   "id": "c1efd290",
   "metadata": {},
   "outputs": [],
   "source": [
    "%matplotlib inline\n",
    "from matplotlib import pyplot as plt\n",
    "\n",
    "import os\n",
    "import numpy as np\n",
    "from poisson_numcodecs.Poisson import Poisson\n",
    "from poisson_numcodecs import estimate\n",
    "import zarr"
   ]
  },
  {
   "cell_type": "code",
   "execution_count": null,
   "id": "9bc83088",
   "metadata": {},
   "outputs": [],
   "source": [
    "data = np.load('../tests/data/data1.npz')['data']"
   ]
  },
  {
   "cell_type": "code",
   "execution_count": null,
   "id": "e352f315",
   "metadata": {},
   "outputs": [],
   "source": [
    "# for bright images use count_weight_gamma=1\n",
    "# for photon-starved images with few cells use count_weight_gamma = 0.001\n",
    "# Otherwise, use the default\n",
    "\n",
    "qs = estimate.compute_sensitivity(\n",
    "    data.transpose(1,2,0),   # time must be in the third dimensions\n",
    "    count_weight_gamma=1)  "
   ]
  },
  {
   "cell_type": "code",
   "execution_count": null,
   "id": "e1b5e68d",
   "metadata": {},
   "outputs": [],
   "source": [
    "qs"
   ]
  },
  {
   "cell_type": "code",
   "execution_count": null,
   "id": "50f3d031",
   "metadata": {},
   "outputs": [],
   "source": [
    "intensity = np.r_[qs['min_intensity']:qs['max_intensity']]\n",
    "sensitivity = qs['sensitivity']\n",
    "zero_level = qs['zero_level']\n",
    "plt.scatter(intensity, qs['variance'], s=1)\n",
    "plt.plot(intensity, (intensity - zero_level) * sensitivity, 'r')\n",
    "plt.grid(True)\n",
    "plt.xlabel('intensity')\n",
    "plt.ylabel('variance')"
   ]
  },
  {
   "cell_type": "code",
   "execution_count": null,
   "id": "2e6efa14",
   "metadata": {},
   "outputs": [],
   "source": [
    "# make compression lookup tables\n",
    "zero = np.int16(np.round(qs['zero_level']))\n",
    "LUT1, LUT2 = estimate.make_luts(\n",
    "    zero_level=0, \n",
    "    sensitivity=qs['sensitivity'],\n",
    "    input_max=data.max() - zero,\n",
    "    beta=0.5\n",
    ")"
   ]
  },
  {
   "cell_type": "code",
   "execution_count": null,
   "id": "cf56b085",
   "metadata": {},
   "outputs": [],
   "source": [
    "plt.plot(LUT1)"
   ]
  },
  {
   "cell_type": "code",
   "execution_count": null,
   "id": "a6d75d83",
   "metadata": {},
   "outputs": [],
   "source": [
    "# save compressed video as .gif\n",
    "compressed = estimate.lookup(data - zero, LUT1)\n",
    "gif_path = 'test.gif'\n",
    "scale = 255//np.max(compressed)  # this makes the gif brighter. Use scale=1 normally\n",
    "estimate.save_movie(compressed, gif_path, scale=scale)          \n",
    "print(f'Compression ratio: {np.prod(data.shape)*2 / os.path.getsize(gif_path):0.2f}')"
   ]
  },
  {
   "cell_type": "code",
   "execution_count": null,
   "id": "f5dbd468",
   "metadata": {},
   "outputs": [],
   "source": [
    "!open test.gif"
   ]
  },
  {
   "cell_type": "code",
   "execution_count": null,
   "id": "c58b5a86",
   "metadata": {},
   "outputs": [],
   "source": [
    "dark_signal = 0\n",
    "signal_to_photon_gain = 96.0\n",
    "encoded_dtype = np.int16\n",
    "decoded_dtype = np.int8\n",
    "integer_per_photon = 2"
   ]
  },
  {
   "cell_type": "code",
   "execution_count": null,
   "id": "7f3535d2",
   "metadata": {},
   "outputs": [],
   "source": [
    "# instantiate Poisson object\n",
    "poisson_filter = Poisson(zero_level, sensitivity)\n",
    "\n",
    "# using default Zarr compressor\n",
    "photon_data = zarr.array(data, filters=[poisson_filter])\n",
    "data_read = photon_data[:]"
   ]
  },
  {
   "cell_type": "code",
   "execution_count": null,
   "id": "328f8c2f",
   "metadata": {},
   "outputs": [],
   "source": []
  }
 ],
 "metadata": {
  "kernelspec": {
   "display_name": "benv",
   "language": "python",
   "name": "benv"
  },
  "language_info": {
   "codemirror_mode": {
    "name": "ipython",
    "version": 3
   },
   "file_extension": ".py",
   "mimetype": "text/x-python",
   "name": "python",
   "nbconvert_exporter": "python",
   "pygments_lexer": "ipython3",
   "version": "3.10.4"
  }
 },
 "nbformat": 4,
 "nbformat_minor": 5
}
