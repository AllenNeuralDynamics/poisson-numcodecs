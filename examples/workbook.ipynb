{
 "cells": [
  {
   "cell_type": "code",
   "execution_count": null,
   "id": "c1efd290",
   "metadata": {},
   "outputs": [],
   "source": [
    "%matplotlib inline\n",
    "from matplotlib import pyplot as plt\n",
    "from numcodecs import Blosc\n",
    "import os\n",
    "import numpy as np\n",
    "from poisson_numcodecs.Poisson import Poisson\n",
    "from poisson_numcodecs import estimate\n",
    "import zarr\n"
   ]
  },
  {
   "cell_type": "code",
   "execution_count": null,
   "id": "9bc83088",
   "metadata": {},
   "outputs": [],
   "source": [
    "data = np.load('../tests/data/data1.npz')['data']"
   ]
  },
  {
   "cell_type": "code",
   "execution_count": null,
   "id": "e352f315",
   "metadata": {},
   "outputs": [],
   "source": [
    "# for bright images use count_weight_gamma=1\n",
    "# for photon-starved images with few cells use count_weight_gamma = 0.001\n",
    "# Otherwise, use the default\n",
    "\n",
    "qs = estimate.compute_sensitivity(\n",
    "    data.transpose(1,2,0),   # time must be in the third dimensions\n",
    "    count_weight_gamma=1)  "
   ]
  },
  {
   "cell_type": "code",
   "execution_count": null,
   "id": "e1b5e68d",
   "metadata": {},
   "outputs": [],
   "source": [
    "qs"
   ]
  },
  {
   "cell_type": "code",
   "execution_count": null,
   "id": "50f3d031",
   "metadata": {},
   "outputs": [],
   "source": [
    "intensity = np.r_[qs['min_intensity']:qs['max_intensity']]\n",
    "sensitivity = qs['sensitivity']\n",
    "zero_level = qs['zero_level']\n",
    "plt.scatter(intensity, qs['variance'], s=1)\n",
    "plt.plot(intensity, (intensity - zero_level) * sensitivity, 'r')\n",
    "plt.grid(True)\n",
    "plt.xlabel('intensity')\n",
    "plt.ylabel('variance')"
   ]
  },
  {
   "cell_type": "code",
   "execution_count": null,
   "id": "2e6efa14",
   "metadata": {},
   "outputs": [],
   "source": [
    "# make compression lookup tables\n",
    "zero = np.int16(np.round(qs['zero_level']))\n",
    "LUT1 = estimate.make_anscombe_lookup(sensitivity)\n",
    "LUT2 = estimate.make_inverse_lookup(LUT1)"
   ]
  },
  {
   "cell_type": "code",
   "execution_count": null,
   "id": "a6d75d83",
   "metadata": {},
   "outputs": [],
   "source": [
    "# save compressed video as .gif\n",
    "compressed = estimate.lookup(data - zero, LUT1)\n",
    "gif_path = 'test.gif'\n",
    "scale = 255//np.max(compressed)  # this makes the gif brighter. Use scale=1 normally\n",
    "estimate.save_movie(compressed, gif_path, scale=scale)          \n",
    "print(f'Compression ratio: {np.prod(data.shape)*2 / os.path.getsize(gif_path):0.2f}')"
   ]
  },
  {
   "cell_type": "code",
   "execution_count": null,
   "id": "6645b70f",
   "metadata": {},
   "outputs": [],
   "source": [
    "# instantiate Poisson object\n",
    "poisson_filter = Poisson(zero_level, sensitivity)"
   ]
  },
  {
   "cell_type": "code",
   "execution_count": null,
   "id": "560e02fa",
   "metadata": {},
   "outputs": [],
   "source": [
    "# using default Zarr compressor\n",
    "img = zarr.array(data, filters=[poisson_filter], compressor=Blosc(cname='zstd', clevel=1))\n",
    "img.info"
   ]
  },
  {
   "cell_type": "code",
   "execution_count": null,
   "id": "0243f913",
   "metadata": {},
   "outputs": [],
   "source": [
    "img = zarr.open('im.zarr')"
   ]
  },
  {
   "cell_type": "code",
   "execution_count": null,
   "id": "87de828b",
   "metadata": {},
   "outputs": [],
   "source": [
    "plt.imshow(img[10,:,:])"
   ]
  },
  {
   "cell_type": "code",
   "execution_count": null,
   "id": "e283c924",
   "metadata": {},
   "outputs": [],
   "source": [
    "ls -l"
   ]
  },
  {
   "cell_type": "markdown",
   "id": "ae009d7c",
   "metadata": {},
   "source": []
  }
 ],
 "metadata": {
  "kernelspec": {
   "display_name": "Python 3",
   "language": "python",
   "name": "python3"
  },
  "language_info": {
   "codemirror_mode": {
    "name": "ipython",
    "version": 3
   },
   "file_extension": ".py",
   "mimetype": "text/x-python",
   "name": "python",
   "nbconvert_exporter": "python",
   "pygments_lexer": "ipython3",
   "version": "3.10.4"
  }
 },
 "nbformat": 4,
 "nbformat_minor": 5
}
